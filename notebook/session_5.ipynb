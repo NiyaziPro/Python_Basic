{
 "cells": [
  {
   "cell_type": "markdown",
   "metadata": {},
   "source": [
    "x = 8.5\n",
    "type(str(x))\n",
    " islemin sonucu nedir"
   ]
  },
  {
   "cell_type": "code",
   "execution_count": 1,
   "metadata": {},
   "outputs": [
    {
     "data": {
      "text/plain": [
       "str"
      ]
     },
     "execution_count": 1,
     "metadata": {},
     "output_type": "execute_result"
    }
   ],
   "source": [
    "x = 8.5\n",
    "type(str(x))\n",
    "# islemin sonucu nedir"
   ]
  },
  {
   "cell_type": "markdown",
   "metadata": {},
   "source": [
    "# int('9.5')\n",
    "# # bu islemin sonucu nedir "
   ]
  },
  {
   "cell_type": "code",
   "execution_count": 2,
   "metadata": {},
   "outputs": [
    {
     "ename": "ValueError",
     "evalue": "invalid literal for int() with base 10: '9.5'",
     "output_type": "error",
     "traceback": [
      "\u001b[1;31m---------------------------------------------------------------------------\u001b[0m",
      "\u001b[1;31mValueError\u001b[0m                                Traceback (most recent call last)",
      "Cell \u001b[1;32mIn[2], line 1\u001b[0m\n\u001b[1;32m----> 1\u001b[0m \u001b[38;5;28mint\u001b[39m(\u001b[38;5;124m'\u001b[39m\u001b[38;5;124m9.5\u001b[39m\u001b[38;5;124m'\u001b[39m)\n",
      "\u001b[1;31mValueError\u001b[0m: invalid literal for int() with base 10: '9.5'"
     ]
    }
   ],
   "source": [
    "int('9.5') # tirnak icindeki deger floata benzeyip integera benzemediginden , hata aliriz."
   ]
  },
  {
   "cell_type": "code",
   "execution_count": 3,
   "metadata": {},
   "outputs": [
    {
     "data": {
      "text/plain": [
       "9.5"
      ]
     },
     "execution_count": 3,
     "metadata": {},
     "output_type": "execute_result"
    }
   ],
   "source": [
    "float('9.5') #"
   ]
  },
  {
   "cell_type": "code",
   "execution_count": 4,
   "metadata": {},
   "outputs": [
    {
     "data": {
      "text/plain": [
       "5.0"
      ]
     },
     "execution_count": 4,
     "metadata": {},
     "output_type": "execute_result"
    }
   ],
   "source": [
    "y = True\n",
    "5/float(y)\n",
    "# # Bu islemin sonucu nedir"
   ]
  },
  {
   "cell_type": "code",
   "execution_count": 9,
   "metadata": {},
   "outputs": [
    {
     "ename": "NameError",
     "evalue": "name 'false' is not defined",
     "output_type": "error",
     "traceback": [
      "\u001b[1;31m---------------------------------------------------------------------------\u001b[0m",
      "\u001b[1;31mNameError\u001b[0m                                 Traceback (most recent call last)",
      "Cell \u001b[1;32mIn[9], line 2\u001b[0m\n\u001b[0;32m      1\u001b[0m z \u001b[38;5;241m=\u001b[39m \u001b[38;5;124m'\u001b[39m\u001b[38;5;124m6.9\u001b[39m\u001b[38;5;124m'\u001b[39m\n\u001b[1;32m----> 2\u001b[0m result \u001b[38;5;241m=\u001b[39m \u001b[38;5;28mint\u001b[39m(\u001b[38;5;28mfloat\u001b[39m(z)) \u001b[38;5;241m+\u001b[39m \u001b[38;5;28mfloat\u001b[39m(false)\n\u001b[0;32m      3\u001b[0m result\n",
      "\u001b[1;31mNameError\u001b[0m: name 'false' is not defined"
     ]
    }
   ],
   "source": [
    "z = '6.9'\n",
    "result = int(float(z)) + float(false)\n",
    "result# false in f si kucuk oldugundan hata verir "
   ]
  },
  {
   "cell_type": "code",
   "execution_count": 10,
   "metadata": {},
   "outputs": [
    {
     "data": {
      "text/plain": [
       "6.0"
      ]
     },
     "execution_count": 10,
     "metadata": {},
     "output_type": "execute_result"
    }
   ],
   "source": [
    "z = '6.9'\n",
    "result = int(float(z)) + float(False)\n",
    "result"
   ]
  },
  {
   "cell_type": "code",
   "execution_count": 11,
   "metadata": {},
   "outputs": [
    {
     "data": {
      "text/plain": [
       "6.0"
      ]
     },
     "execution_count": 11,
     "metadata": {},
     "output_type": "execute_result"
    }
   ],
   "source": [
    "18 / 3 "
   ]
  },
  {
   "cell_type": "code",
   "execution_count": 12,
   "metadata": {},
   "outputs": [
    {
     "data": {
      "text/plain": [
       "1"
      ]
     },
     "execution_count": 12,
     "metadata": {},
     "output_type": "execute_result"
    }
   ],
   "source": [
    "pow(3,2) % 4 # sonuc nedir "
   ]
  },
  {
   "cell_type": "code",
   "execution_count": 13,
   "metadata": {},
   "outputs": [
    {
     "name": "stdout",
     "output_type": "stream",
     "text": [
      "Ucgenin alani  15.0\n"
     ]
    }
   ],
   "source": [
    "#  Bir üçgenin taban uzunluğu ve yüksekliği verilmiştir.\n",
    "#  Üçgenin alanını hesaplayıp sonucu ekrana yazdıran bir Python\n",
    "#  kodu yazınız. (Üçgen alanı formülü: (taban * yukseklik) /2)\n",
    "\n",
    "taban = 5 \n",
    "yukseklik = 6\n",
    "area_triangle = (taban * yukseklik) / 2\n",
    "print('Ucgenin alani ', area_triangle) \n"
   ]
  },
  {
   "cell_type": "markdown",
   "metadata": {},
   "source": [
    "#  print()"
   ]
  },
  {
   "cell_type": "code",
   "execution_count": 16,
   "metadata": {},
   "outputs": [
    {
     "name": "stdout",
     "output_type": "stream",
     "text": [
      "Hello everyone welcome to python lecture \n"
     ]
    }
   ],
   "source": [
    "print('Hello everyone','welcome to python lecture ')"
   ]
  },
  {
   "cell_type": "code",
   "execution_count": 17,
   "metadata": {},
   "outputs": [
    {
     "name": "stdout",
     "output_type": "stream",
     "text": [
      "apple kiwi strawberry\n"
     ]
    }
   ],
   "source": [
    "print('apple','kiwi','strawberry')"
   ]
  },
  {
   "cell_type": "code",
   "execution_count": 18,
   "metadata": {},
   "outputs": [
    {
     "name": "stdout",
     "output_type": "stream",
     "text": [
      "apple___kiwi___strawberry\n"
     ]
    }
   ],
   "source": [
    "print('apple','kiwi','strawberry',sep='___')    # sep -> seperator -> ayirmak, ayrac"
   ]
  },
  {
   "cell_type": "code",
   "execution_count": 20,
   "metadata": {},
   "outputs": [
    {
     "name": "stdout",
     "output_type": "stream",
     "text": [
      "apple%%%kiwi%%%strawberry\n"
     ]
    }
   ],
   "source": [
    "print('apple','kiwi','strawberry',sep='%%%')  "
   ]
  },
  {
   "cell_type": "code",
   "execution_count": 21,
   "metadata": {},
   "outputs": [
    {
     "name": "stdout",
     "output_type": "stream",
     "text": [
      "apple kiwi strawberry%%%"
     ]
    }
   ],
   "source": [
    "print('apple','kiwi','strawberry',end='%%%')  "
   ]
  },
  {
   "cell_type": "code",
   "execution_count": 24,
   "metadata": {},
   "outputs": [
    {
     "name": "stdout",
     "output_type": "stream",
     "text": [
      "apple\n",
      "kiwi\n",
      "banana\n"
     ]
    }
   ],
   "source": [
    "print('apple')\n",
    "print('kiwi')\n",
    "print('banana')"
   ]
  },
  {
   "cell_type": "code",
   "execution_count": 25,
   "metadata": {},
   "outputs": [
    {
     "name": "stdout",
     "output_type": "stream",
     "text": [
      "apple#kiwi\n",
      "banana\n"
     ]
    }
   ],
   "source": [
    "print('apple', end='#')\n",
    "print('kiwi')\n",
    "print('banana')"
   ]
  },
  {
   "cell_type": "code",
   "execution_count": 26,
   "metadata": {},
   "outputs": [
    {
     "name": "stdout",
     "output_type": "stream",
     "text": [
      "apple#kiwi-banana&"
     ]
    }
   ],
   "source": [
    "print('apple', end='#')\n",
    "print('kiwi', end='-')\n",
    "print('banana',end='&')"
   ]
  },
  {
   "cell_type": "code",
   "execution_count": 27,
   "metadata": {},
   "outputs": [
    {
     "name": "stdout",
     "output_type": "stream",
     "text": [
      "Ohio__New York--Texas..California\n"
     ]
    }
   ],
   "source": [
    "print('Ohio', end='__')\n",
    "print('New York', end='--')\n",
    "print('Texas','California', sep='..')"
   ]
  },
  {
   "cell_type": "markdown",
   "metadata": {},
   "source": [
    "# unicode "
   ]
  },
  {
   "cell_type": "code",
   "execution_count": 29,
   "metadata": {},
   "outputs": [
    {
     "name": "stdout",
     "output_type": "stream",
     "text": [
      "Merhaba Dunya🥰"
     ]
    }
   ],
   "source": [
    "print('Merhaba Dunya', end='\\U0001F970')"
   ]
  },
  {
   "cell_type": "code",
   "execution_count": 30,
   "metadata": {},
   "outputs": [
    {
     "name": "stdout",
     "output_type": "stream",
     "text": [
      "Python ne guzel dil! 🤩"
     ]
    }
   ],
   "source": [
    "print('Python ne guzel dil! ', end='\\U0001F929')"
   ]
  },
  {
   "cell_type": "code",
   "execution_count": 32,
   "metadata": {},
   "outputs": [
    {
     "name": "stdout",
     "output_type": "stream",
     "text": [
      "Ohio😊New York😊Alaska\n"
     ]
    }
   ],
   "source": [
    "print('Ohio','New York','Alaska', sep = '\\U0001F60A')"
   ]
  },
  {
   "cell_type": "markdown",
   "metadata": {},
   "source": [
    "# f string "
   ]
  },
  {
   "cell_type": "code",
   "execution_count": 34,
   "metadata": {},
   "outputs": [
    {
     "name": "stdout",
     "output_type": "stream",
     "text": [
      "Hello Jennifer\n"
     ]
    }
   ],
   "source": [
    "name = 'Jennifer'\n",
    "print('Hello',name)"
   ]
  },
  {
   "cell_type": "code",
   "execution_count": 35,
   "metadata": {},
   "outputs": [
    {
     "name": "stdout",
     "output_type": "stream",
     "text": [
      "Hello Jennifer\n"
     ]
    }
   ],
   "source": [
    "name = 'Jennifer'\n",
    "print(f'Hello {name}')"
   ]
  },
  {
   "cell_type": "code",
   "execution_count": 36,
   "metadata": {},
   "outputs": [
    {
     "name": "stdout",
     "output_type": "stream",
     "text": [
      "Hello Mehmet\n"
     ]
    }
   ],
   "source": [
    "name = \"Mehmet\"\n",
    "print(\"Hello \" + name)"
   ]
  },
  {
   "cell_type": "code",
   "execution_count": 37,
   "metadata": {},
   "outputs": [
    {
     "name": "stdout",
     "output_type": "stream",
     "text": [
      "Jane Germany de yasiyor. Ve kendisi Machine Learning Engineer\n"
     ]
    }
   ],
   "source": [
    "name = 'Jane' \n",
    "country = 'Germany'\n",
    "job = 'Machine Learning Engineer'\n",
    "print(f'{name} {country} de yasiyor. Ve kendisi {job}')"
   ]
  },
  {
   "cell_type": "code",
   "execution_count": 40,
   "metadata": {},
   "outputs": [
    {
     "name": "stdout",
     "output_type": "stream",
     "text": [
      "Tabani 5, yuksekligi 6 olan ucgenin alani 15.0\n"
     ]
    }
   ],
   "source": [
    "#  Bir üçgenin taban uzunluğu ve yüksekliği verilmiştir.\n",
    "#  Üçgenin alanını hesaplayıp sonucu ekrana yazdıran bir Python\n",
    "#  kodu yazınız. (Üçgen alanı formülü: (taban * yukseklik) /2)\n",
    "\n",
    "# Tabani 5, yuksekligi 6 olan ucgenin alani 15 dir\n",
    "\n",
    "\n",
    "taban = 5 \n",
    "yukseklik = 6\n",
    "area_triangle = (taban * yukseklik) / 2\n",
    "print(f'Tabani {taban}, yuksekligi {yukseklik} olan ucgenin alani {area_triangle}') \n"
   ]
  },
  {
   "cell_type": "code",
   "execution_count": 43,
   "metadata": {},
   "outputs": [
    {
     "name": "stdout",
     "output_type": "stream",
     "text": [
      "Tabani 5, yuksekligi 6 olan ucgenin alani 15.0\n"
     ]
    }
   ],
   "source": [
    "taban = 5 \n",
    "yukseklik = 6\n",
    "area_triangle = (taban * yukseklik) / 2\n",
    "print('Tabani {}, yuksekligi {} olan ucgenin alani {}'.format(taban,yukseklik,area_triangle)) \n",
    "# sirasi onemli yer tutucularin "
   ]
  },
  {
   "cell_type": "code",
   "execution_count": 44,
   "metadata": {},
   "outputs": [
    {
     "name": "stdout",
     "output_type": "stream",
     "text": [
      "Tabani 5, yuksekligi 6 olan ucgenin alani 15.0\n"
     ]
    }
   ],
   "source": [
    "taban = 5 \n",
    "yukseklik = 6\n",
    "area_triangle = (taban * yukseklik) / 2\n",
    "print('Tabani {1}, yuksekligi {0} olan ucgenin alani {2}'.format(yukseklik,taban,area_triangle)) "
   ]
  },
  {
   "cell_type": "markdown",
   "metadata": {},
   "source": [
    "# input()"
   ]
  },
  {
   "cell_type": "code",
   "execution_count": 46,
   "metadata": {},
   "outputs": [
    {
     "data": {
      "text/plain": [
       "'78'"
      ]
     },
     "execution_count": 46,
     "metadata": {},
     "output_type": "execute_result"
    }
   ],
   "source": [
    "input()"
   ]
  },
  {
   "cell_type": "code",
   "execution_count": 49,
   "metadata": {},
   "outputs": [
    {
     "data": {
      "text/plain": [
       "str"
      ]
     },
     "execution_count": 49,
     "metadata": {},
     "output_type": "execute_result"
    }
   ],
   "source": [
    "x = input()\n",
    "type(x)\n",
    "# input her zaman size datayi str seklinde dondurur "
   ]
  },
  {
   "cell_type": "code",
   "execution_count": 50,
   "metadata": {},
   "outputs": [
    {
     "data": {
      "text/plain": [
       "56"
      ]
     },
     "execution_count": 50,
     "metadata": {},
     "output_type": "execute_result"
    }
   ],
   "source": [
    "x = input()\n",
    "int(x)"
   ]
  },
  {
   "cell_type": "code",
   "execution_count": 56,
   "metadata": {},
   "outputs": [
    {
     "ename": "ValueError",
     "evalue": "invalid literal for int() with base 10: 'fj'",
     "output_type": "error",
     "traceback": [
      "\u001b[1;31m---------------------------------------------------------------------------\u001b[0m",
      "\u001b[1;31mValueError\u001b[0m                                Traceback (most recent call last)",
      "Cell \u001b[1;32mIn[56], line 1\u001b[0m\n\u001b[1;32m----> 1\u001b[0m \u001b[38;5;28mint\u001b[39m(\u001b[38;5;28minput\u001b[39m()) \u001b[38;5;66;03m# datayi alir almaz integera donusturduk \u001b[39;00m\n\u001b[0;32m      2\u001b[0m \u001b[38;5;28mprint\u001b[39m(\u001b[38;5;124m'\u001b[39m\u001b[38;5;124mhello\u001b[39m\u001b[38;5;124m'\u001b[39m)\n",
      "\u001b[1;31mValueError\u001b[0m: invalid literal for int() with base 10: 'fj'"
     ]
    }
   ],
   "source": [
    "int(input()) # datayi alir almaz integera donusturduk \n",
    "print('hello') # yukarida input icine string bir deger girilirse, integera donusturulemeyeceginden hata verir \n",
    "# ve sistem coker, devamindaki kodlar calismaz, bu nedenle hello yazisini cikti olarak goremiyoruz "
   ]
  },
  {
   "cell_type": "code",
   "execution_count": 61,
   "metadata": {},
   "outputs": [
    {
     "ename": "ValueError",
     "evalue": "invalid literal for int() with base 10: 'b7'",
     "output_type": "error",
     "traceback": [
      "\u001b[1;31m---------------------------------------------------------------------------\u001b[0m",
      "\u001b[1;31mValueError\u001b[0m                                Traceback (most recent call last)",
      "Cell \u001b[1;32mIn[61], line 2\u001b[0m\n\u001b[0;32m      1\u001b[0m student_note \u001b[38;5;241m=\u001b[39m \u001b[38;5;28minput\u001b[39m(\u001b[38;5;124m'\u001b[39m\u001b[38;5;124mLutfen ogrencinin notunu giriniz\u001b[39m\u001b[38;5;124m'\u001b[39m)\n\u001b[1;32m----> 2\u001b[0m \u001b[38;5;241m100\u001b[39m \u001b[38;5;241m-\u001b[39m \u001b[38;5;28mint\u001b[39m(student_note)\n",
      "\u001b[1;31mValueError\u001b[0m: invalid literal for int() with base 10: 'b7'"
     ]
    }
   ],
   "source": [
    "student_note = input('Lutfen ogrencinin notunu giriniz')\n",
    "100 - int(student_note) # data string olarak geldiginde , hata aliriz, \n",
    "# bu hatayi almamak icin daha sonrasinda isnumeric gibi methodlardan bahsedecegiz."
   ]
  },
  {
   "cell_type": "code",
   "execution_count": null,
   "metadata": {},
   "outputs": [],
   "source": [
    "# task -> gorev \n",
    "# yas bilgisi isteyin ve dogum yilini bulun \n",
    "age = input('Please enter your age')\n",
    "date_of_birth = 2025 - int(age) # gecici olarak int donusturmusum \n",
    "print(f'Dogum tarihiniz: {date_of_birth}')"
   ]
  },
  {
   "cell_type": "code",
   "execution_count": null,
   "metadata": {},
   "outputs": [],
   "source": [
    "age = int(input('Please enter your age'))# kalici olarak yasi int donusturmusum.   "
   ]
  },
  {
   "cell_type": "code",
   "execution_count": 69,
   "metadata": {},
   "outputs": [
    {
     "data": {
      "text/plain": [
       "27.343749999999996"
      ]
     },
     "execution_count": 69,
     "metadata": {},
     "output_type": "execute_result"
    }
   ],
   "source": [
    "# Kullanicidan kilo ve boy bilgisini alan ve girilen bilgilere gore \n",
    "# vucut kitle indeksini (vki) hesaplayan kodu yazin \n",
    "# bmi = kg/ m2\n",
    "\n",
    "kg = int(input('Please enter your weight as kg'))\n",
    "height = int(input('Please enter your height as cm')) / 100\n",
    "bmi = kg / (height ** 2)\n",
    "bmi\n"
   ]
  },
  {
   "cell_type": "code",
   "execution_count": 72,
   "metadata": {},
   "outputs": [
    {
     "ename": "ValueError",
     "evalue": "could not convert string to float: '1,60'",
     "output_type": "error",
     "traceback": [
      "\u001b[1;31m---------------------------------------------------------------------------\u001b[0m",
      "\u001b[1;31mValueError\u001b[0m                                Traceback (most recent call last)",
      "Cell \u001b[1;32mIn[72], line 2\u001b[0m\n\u001b[0;32m      1\u001b[0m kg \u001b[38;5;241m=\u001b[39m \u001b[38;5;28mint\u001b[39m(\u001b[38;5;28minput\u001b[39m(\u001b[38;5;124m'\u001b[39m\u001b[38;5;124mPlease enter your weight as kg\u001b[39m\u001b[38;5;124m'\u001b[39m))\n\u001b[1;32m----> 2\u001b[0m height \u001b[38;5;241m=\u001b[39m \u001b[38;5;28mfloat\u001b[39m(\u001b[38;5;28minput\u001b[39m(\u001b[38;5;124m'\u001b[39m\u001b[38;5;124mPlease enter your height as m\u001b[39m\u001b[38;5;124m'\u001b[39m))\n\u001b[0;32m      3\u001b[0m bmi \u001b[38;5;241m=\u001b[39m kg \u001b[38;5;241m/\u001b[39m (height \u001b[38;5;241m*\u001b[39m\u001b[38;5;241m*\u001b[39m \u001b[38;5;241m2\u001b[39m)\n\u001b[0;32m      4\u001b[0m bmi\n",
      "\u001b[1;31mValueError\u001b[0m: could not convert string to float: '1,60'"
     ]
    }
   ],
   "source": [
    "kg = int(input('Please enter your weight as kg'))\n",
    "height = float(input('Please enter your height as m'))\n",
    "bmi = kg / (height ** 2)\n",
    "bmi"
   ]
  },
  {
   "cell_type": "markdown",
   "metadata": {},
   "source": [
    "# Escape Sequences \n",
    "- \\ -> kendinden sonra gelen karakterin python islevini gormezden gel\n",
    "- \\n -> new line -> yeni satir\n",
    "- \\b -> backspace -> bir tane siler\n",
    "- \\t -> tab "
   ]
  },
  {
   "cell_type": "code",
   "execution_count": 73,
   "metadata": {},
   "outputs": [
    {
     "name": "stdout",
     "output_type": "stream",
     "text": [
      "Tom's little son\n"
     ]
    }
   ],
   "source": [
    "print('Tom\\'s little son') # "
   ]
  },
  {
   "cell_type": "code",
   "execution_count": 76,
   "metadata": {},
   "outputs": [
    {
     "name": "stdout",
     "output_type": "stream",
     "text": [
      "Python ne guzel dil.\n",
      "Ozellikle pratik yaparsan!\n"
     ]
    }
   ],
   "source": [
    "print('Python ne guzel dil.\\nOzellikle pratik yaparsan!')"
   ]
  },
  {
   "cell_type": "code",
   "execution_count": 79,
   "metadata": {},
   "outputs": [
    {
     "name": "stdout",
     "output_type": "stream",
     "text": [
      "Pythonin 4gunu\n"
     ]
    }
   ],
   "source": [
    "print('Pythonin 4.\\bgunu') #\\b -> backspace -> bir tane siler "
   ]
  },
  {
   "cell_type": "code",
   "execution_count": 80,
   "metadata": {},
   "outputs": [
    {
     "name": "stdout",
     "output_type": "stream",
     "text": [
      "Ali\tVeli\tCengiz\n"
     ]
    }
   ],
   "source": [
    "print('Ali','Veli','Cengiz',sep='\\t')"
   ]
  },
  {
   "cell_type": "code",
   "execution_count": 81,
   "metadata": {},
   "outputs": [
    {
     "name": "stdout",
     "output_type": "stream",
     "text": [
      "Data\t Scienc gelecegin\n",
      " meslegi!!\n"
     ]
    }
   ],
   "source": [
    "print('Data\\t Science\\b gelecegin\\n meslegi!!')"
   ]
  },
  {
   "cell_type": "code",
   "execution_count": 82,
   "metadata": {},
   "outputs": [
    {
     "name": "stdout",
     "output_type": "stream",
     "text": [
      "Data\\t Science\\b gelecegin\\n meslegi!!\n"
     ]
    }
   ],
   "source": [
    "print(r'Data\\t Science\\b gelecegin\\n meslegi!!')"
   ]
  },
  {
   "cell_type": "code",
   "execution_count": 83,
   "metadata": {},
   "outputs": [],
   "source": [
    "# HOMEWORK\n",
    "\n",
    "# Bir kürenin yarıçapı verilmiştir. \n",
    "# Kürenin hacmini hesaplayıp sonucu ekrana yazdıran bir Python kodu yazınız.\n",
    "# kurenin yaricapini kullanicidan alin, f print ile sonucu yazdirin. formati da deneyebilirsiniz. "
   ]
  },
  {
   "cell_type": "code",
   "execution_count": null,
   "metadata": {},
   "outputs": [],
   "source": [
    "print('Jessica','age',sep='//')\n",
    "print('69', 35, sep='++', end='-->')\n",
    "print('the end')\n",
    "# kodu calistirmadan ciktiyi tahmin edin "
   ]
  }
 ],
 "metadata": {
  "kernelspec": {
   "display_name": "Python 3",
   "language": "python",
   "name": "python3"
  },
  "language_info": {
   "codemirror_mode": {
    "name": "ipython",
    "version": 3
   },
   "file_extension": ".py",
   "mimetype": "text/x-python",
   "name": "python",
   "nbconvert_exporter": "python",
   "pygments_lexer": "ipython3",
   "version": "3.12.3"
  }
 },
 "nbformat": 4,
 "nbformat_minor": 2
}
