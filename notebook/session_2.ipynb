{
 "cells": [
  {
   "cell_type": "markdown",
   "metadata": {},
   "source": [
    "# Pep8 rules\n"
   ]
  },
  {
   "cell_type": "markdown",
   "metadata": {},
   "source": [
    "## Comments\n",
    "PEP 8, Python kod yazımında stil rehberi olarak kullanılan bir belgedir. Python Geliştirme Önerileri (PEP, Python Enhancement Proposals) serisinden biridir ve Python'un standart kütüphanesi ile tutarlı ve okunabilir kod yazımı için en iyi uygulamaları ve kuralları belirler.\n",
    "\n",
    "PEP 8'in bazı temel kuralları şunlardır:\n",
    "\n",
    "Giriş ve Çıkış:\n",
    "\n",
    "Dosyalar Unix tarzı satır sonu (LF) kullanmalı.\n",
    "Dosyanın sonunda bir boş satır olmalı.\n",
    "İndentasyon:\n",
    "\n",
    "Girintiler dört boşluk ile yapılmalı (sekme karakteri değil).\n",
    "Satır Uzunluğu:\n",
    "\n",
    "Satırlar 79 karakteri aşmamalı.\n",
    "Boşluklar:\n",
    "\n",
    "Operatörlerden önce ve sonra birer boşluk olmalı (örn. x = y + z).\n",
    "Parantez içindeki argümanlarda boşluk kullanılmamalı (örn. func(a, b)).\n",
    "Fonksiyon ve Sınıf Tanımları:\n",
    "\n",
    "Fonksiyon ve sınıf tanımları arasında iki boş satır bırakılmalı.\n",
    "Sınıf içindeki metod tanımları arasında bir boş satır bırakılmalı.\n",
    "İsimlendirme:\n",
    "\n",
    "Fonksiyon isimleri küçük harfler ve alt çizgi ile ayrılmalı (örn. function_name).\n",
    "Sınıf isimleri CamelCase tarzında olmalı (örn. ClassName).\n",
    "Sabit isimleri tamamen büyük harflerle yazılmalı ve alt çizgi ile ayrılmalı (örn. CONSTANT_NAME).\n",
    "İç İçe Fonksiyonlar ve Yöntemler:\n",
    "\n",
    "İç içe fonksiyonlar (nested functions) ve yöntemler için birer girinti kullanılmalı.\n",
    "Docstring ve Yorumlar:\n",
    "\n",
    "Modüller, fonksiyonlar, sınıflar ve metodlar için docstring kullanılmalı.\n",
    "Yorumlar kodun kendisinden bir boşluk ile ayrılmalı (örn. # Bu bir yorumdur).\n",
    "PEP 8, kodun daha okunabilir, tutarlı ve bakımı kolay olmasını sağlamak amacıyla bu kuralları belirler. Python kodunu PEP 8 standartlarına uygun hale getirmek için kullanılan bazı araçlar şunlardır:\n",
    "\n",
    "pycodestyle: Kodun PEP 8'e uygunluğunu kontrol eden bir araçtır.\n",
    "autopep8: Python kodunu otomatik olarak PEP 8 standartlarına göre düzelten bir araçtır.\n",
    "pylint: Daha genel bir Python kodu kalite denetim aracıdır ve PEP 8 uyumluluğunu da kontrol eder.\n",
    "Bu araçlar, Python geliştiricilerinin kodlarını PEP 8 standartlarına uygun hale getirmelerine yardımcı olur ve kodun kalitesini artırır."
   ]
  },
  {
   "cell_type": "markdown",
   "metadata": {},
   "source": [
    "# Variables"
   ]
  },
  {
   "cell_type": "code",
   "execution_count": 1,
   "metadata": {},
   "outputs": [
    {
     "name": "stdout",
     "output_type": "stream",
     "text": [
      "Mert 29 Damla 27 Melek 25\n"
     ]
    }
   ],
   "source": [
    "name = \"Mert\"\n",
    "name_1 = \"Damla\"\n",
    "name_2 = \"Melek\"\n",
    "age = 25\n",
    "age_1 = 27 \n",
    "age_2 = 29\n",
    "\n",
    "print(name,age_2,name_1,age_1,name_2,age)\n"
   ]
  },
  {
   "cell_type": "code",
   "execution_count": 6,
   "metadata": {},
   "outputs": [
    {
     "name": "stdout",
     "output_type": "stream",
     "text": [
      "January February March April May June July August September October November December\n"
     ]
    }
   ],
   "source": [
    "month_1 , month_2, month_3 , month_4 = \"January\", \"February\" , \"March\" , \"April\" \n",
    "month_5 , month_6, month_7 , month_8 = \"May\", \"June\" , \"July\" , \"August\" \n",
    "month_9 , month_10, month_11 , month_12 = \"September\", \"October\" , \"November\" , \"December\" \n",
    "\n",
    "print(month_1, month_2, month_3, month_4, month_5, month_6, month_7, month_8 , month_9, month_10, month_11, month_12)"
   ]
  },
  {
   "cell_type": "code",
   "execution_count": 2,
   "metadata": {},
   "outputs": [],
   "source": [
    "january , february , march , april = 31, 28, 31 , 30\n",
    "may , june , july , august = 31 , 30 , 31 , 31\n",
    "september , october , november , december = 30 , 31 , 30 , 31\n"
   ]
  },
  {
   "cell_type": "markdown",
   "metadata": {},
   "source": [
    "# Data types\n"
   ]
  },
  {
   "cell_type": "code",
   "execution_count": 1,
   "metadata": {},
   "outputs": [
    {
     "data": {
      "text/plain": [
       "'Hello World'"
      ]
     },
     "execution_count": 1,
     "metadata": {},
     "output_type": "execute_result"
    }
   ],
   "source": [
    "\"Hello World\" # String data type\n"
   ]
  }
 ],
 "metadata": {
  "kernelspec": {
   "display_name": "Python 3",
   "language": "python",
   "name": "python3"
  },
  "language_info": {
   "codemirror_mode": {
    "name": "ipython",
    "version": 3
   },
   "file_extension": ".py",
   "mimetype": "text/x-python",
   "name": "python",
   "nbconvert_exporter": "python",
   "pygments_lexer": "ipython3",
   "version": "3.12.3"
  }
 },
 "nbformat": 4,
 "nbformat_minor": 2
}
