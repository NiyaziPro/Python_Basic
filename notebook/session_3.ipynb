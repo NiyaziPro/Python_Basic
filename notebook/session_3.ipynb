{
 "cells": [
  {
   "cell_type": "markdown",
   "metadata": {},
   "source": [
    "# shortkeys \n",
    "- a -> asagiya yeni bir hucre acmak icin a harfine basiniz\n",
    "- b -> yukariya yeni bir hucre acmak icin b harfine basiniz\n",
    "- dd -> hucre silmek icin kullanilir\n",
    "- shift + enter -> calistirmak icin kullanilir\n",
    "- ctrl+ c -> kopyalamak \n",
    "- ctrl+ z -> geri alma tusu\n",
    "- ctrl + a -> hepsini sec \n",
    "- ctrl + y -> yeniden yap "
   ]
  },
  {
   "cell_type": "markdown",
   "metadata": {},
   "source": [
    "# Heading 1 \n",
    "## Heading 2 \n",
    "### Heading 3 \n",
    "#### Heading 4 \n",
    "##### Heading 5 \n",
    "###### Heading 6 \n",
    "6 dan fazlasi calismaz "
   ]
  },
  {
   "cell_type": "code",
   "execution_count": null,
   "metadata": {},
   "outputs": [],
   "source": [
    "abc = 'merhaba'"
   ]
  },
  {
   "cell_type": "markdown",
   "metadata": {},
   "source": [
    "# pep8 kurallari\n"
   ]
  },
  {
   "cell_type": "markdown",
   "metadata": {},
   "source": []
  }
 ],
 "metadata": {
  "kernelspec": {
   "display_name": "Python 3",
   "language": "python",
   "name": "python3"
  },
  "language_info": {
   "name": "python",
   "version": "3.12.3"
  }
 },
 "nbformat": 4,
 "nbformat_minor": 2
}
