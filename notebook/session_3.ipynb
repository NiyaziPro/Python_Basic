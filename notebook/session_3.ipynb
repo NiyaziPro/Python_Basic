{
 "cells": [
  {
   "cell_type": "markdown",
   "metadata": {},
   "source": [
    "# shortkeys \n",
    "- a -> asagiya yeni bir hucre acmak icin a harfine basiniz\n",
    "- b -> yukariya yeni bir hucre acmak icin b harfine basiniz\n",
    "- dd -> hucre silmek icin kullanilir\n",
    "- shift + enter -> calistirmak icin kullanilir\n",
    "- ctrl+ c -> kopyalamak \n",
    "- ctrl+ z -> geri alma tusu\n",
    "- ctrl + a -> hepsini sec \n",
    "- ctrl + y -> yeniden yap "
   ]
  },
  {
   "cell_type": "markdown",
   "metadata": {},
   "source": [
    "# Heading 1 \n",
    "## Heading 2 \n",
    "### Heading 3 \n",
    "#### Heading 4 \n",
    "##### Heading 5 \n",
    "###### Heading 6 \n",
    "6 dan fazlasi calismaz "
   ]
  },
  {
   "cell_type": "code",
   "execution_count": null,
   "metadata": {},
   "outputs": [],
   "source": [
    "abc = 'merhaba'"
   ]
  },
  {
   "cell_type": "markdown",
   "metadata": {},
   "source": [
    "# pep8 kurallari\n"
   ]
  },
  {
   "cell_type": "code",
   "execution_count": 4,
   "metadata": {},
   "outputs": [],
   "source": [
    "# Example of PEP 8 rules\n",
    "\n",
    "# 1. Use 4 spaces per indentation level.\n",
    "def my_function():\n",
    "    x = 10\n",
    "    y = 20\n",
    "    return x + y\n",
    "\n",
    "# 2. Limit all lines to a maximum of 79 characters.\n",
    "def long_function_name(var_one, var_two, var_three, var_four):\n",
    "    return var_one + var_two + var_three + var_four\n",
    "\n",
    "# 3. Use blank lines to separate top-level function and class definitions.\n",
    "class MyClass:\n",
    "    def __init__(self, name):\n",
    "        self.name = name\n",
    "\n",
    "    def greet(self):\n",
    "        return f\"Hello, {self.name}\"\n",
    "\n",
    "# 4. Use spaces around operators and after commas.\n",
    "x = 1 + 2\n",
    "y = x * 3\n",
    "z = y / 4\n",
    "\n",
    "# 5. Use a consistent naming style for variables, functions, and classes.\n",
    "variable_name = 10\n",
    "def function_name():\n",
    "    pass\n",
    "\n",
    "class ClassName:\n",
    "    pass"
   ]
  },
  {
   "cell_type": "code",
   "execution_count": 2,
   "metadata": {},
   "outputs": [
    {
     "name": "stdout",
     "output_type": "stream",
     "text": [
      "Nikko\n",
      "<class 'str'>\n"
     ]
    }
   ],
   "source": [
    "str = 'Nikko'\n",
    "print(str)\n",
    "print(type(str))"
   ]
  },
  {
   "cell_type": "code",
   "execution_count": null,
   "metadata": {},
   "outputs": [],
   "source": []
  }
 ],
 "metadata": {
  "kernelspec": {
   "display_name": "Python 3",
   "language": "python",
   "name": "python3"
  },
  "language_info": {
   "codemirror_mode": {
    "name": "ipython",
    "version": 3
   },
   "file_extension": ".py",
   "mimetype": "text/x-python",
   "name": "python",
   "nbconvert_exporter": "python",
   "pygments_lexer": "ipython3",
   "version": "3.12.3"
  }
 },
 "nbformat": 4,
 "nbformat_minor": 2
}
